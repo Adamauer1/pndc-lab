{
 "cells": [
  {
   "cell_type": "markdown",
   "id": "8b8cbec715b32ead",
   "metadata": {},
   "source": [
    "Generates file filled with random numbers depending on the inputted size."
   ]
  },
  {
   "cell_type": "code",
   "execution_count": 10,
   "id": "d86b9098",
   "metadata": {
    "ExecuteTime": {
     "end_time": "2025-06-08T20:56:47.426645Z",
     "start_time": "2025-06-08T20:56:47.416636Z"
    }
   },
   "outputs": [],
   "source": [
    "def generate_random_data(size=50, output_file='random_data.csv'):\n",
    "    import random\n",
    "    import csv\n",
    "\n",
    "    # Generate random data\n",
    "    data = [[random.randint(1, 10000)] for _ in range(size)]\n",
    "    data.insert(0, [size])  # Add header\n",
    "    # Write to CSV file\n",
    "    with open(output_file, mode='w', newline='') as file:\n",
    "        writer = csv.writer(file)\n",
    "        writer.writerows(data)\n",
    "\n",
    "#generate_random_data(50, 'random_data_50.csv')\n",
    "#generate_random_data(100, 'random_data_100.csv')\n",
    "#generate_random_data(200, 'random_data_200.csv')\n",
    "#generate_random_data(500, 'random_data_500.csv')\n",
    "#generate_random_data(1000, 'random_data_1000.csv')"
   ]
  },
  {
   "cell_type": "markdown",
   "id": "2763e38698ce22fa",
   "metadata": {},
   "source": [
    "Simple quick sort function and a helper function to run the function 10 times to get the average."
   ]
  },
  {
   "cell_type": "code",
   "execution_count": 11,
   "id": "b2cf2ca6",
   "metadata": {
    "ExecuteTime": {
     "end_time": "2025-06-10T18:43:03.105310Z",
     "start_time": "2025-06-10T18:43:03.087164Z"
    }
   },
   "outputs": [],
   "source": [
    "import pandas as pd\n",
    "import time\n",
    "\n",
    "def quick_sort(arr):\n",
    "    if len(arr) <= 1:\n",
    "        return arr\n",
    "    pivot = arr[len(arr) // 2]\n",
    "    left = [x for x in arr if x < pivot]\n",
    "    middle = [x for x in arr if x == pivot]\n",
    "    right = [x for x in arr if x > pivot]\n",
    "    return quick_sort(left) + middle + quick_sort(right)\n",
    "\n",
    "def run_experiment(data_file):\n",
    "    data = pd.read_csv(data_file, header=None).values.flatten()[1:]\n",
    "    sort_time = 0\n",
    "    for i in range(10):\n",
    "        start_time = time.time()\n",
    "        quick_sort(data)\n",
    "        end_time = time.time()\n",
    "        sort_time += end_time - start_time\n",
    "        #print(f\"Time taken to sort: {end_time - start_time} seconds\")\n",
    "        \n",
    "    return 1, 0, 0, 0, round((sort_time / 10)*1000, 4), 0, round((sort_time / 10)*1000, 4), 0\n"
   ]
  },
  {
   "cell_type": "markdown",
   "id": "90b0eab361af336b",
   "metadata": {},
   "source": [
    "Will take the results files and get the average for each of the time values. Times are in ms. Also computes the speed up values. The sort times for n processors are total computing time - data transfer time."
   ]
  },
  {
   "cell_type": "code",
   "execution_count": 12,
   "id": "69ef22e8",
   "metadata": {
    "ExecuteTime": {
     "end_time": "2025-06-10T18:44:05.978228Z",
     "start_time": "2025-06-10T18:44:05.971441Z"
    }
   },
   "outputs": [],
   "source": [
    "import os\n",
    "\n",
    "\n",
    "def average_results(folder_path, n_size, data):\n",
    "    #folder_path = 'data_50_results'  # Replace with your folder path\n",
    "    _, _, _, _, _, _, standard_time, _ = data[0]\n",
    "    #print(standard_time)\n",
    "    scatter_time_avg = 0\n",
    "    gather_time_avg = 0\n",
    "    total_data_transfer_time = 0\n",
    "    total_computation_time = 0\n",
    "    # Loop through each file in the folder\n",
    "    for filename in os.listdir(folder_path):\n",
    "        file_path = os.path.join(folder_path, filename)\n",
    "    \n",
    "    # Ensure we only read files (skip directories)\n",
    "        if os.path.isfile(file_path):\n",
    "            with open(file_path, 'r') as f:\n",
    "                lines = f.readlines()\n",
    "        \n",
    "        # Remove any trailing newlines or spaces\n",
    "            lines = [line.strip() for line in lines]\n",
    "        \n",
    "        # Check that there are exactly 4 lines\n",
    "            if len(lines) != 4:\n",
    "                print(f\"Error: {filename} does not have exactly 4 lines!\")\n",
    "            else:\n",
    "                scatter_time_avg += float(lines[0])\n",
    "                gather_time_avg += float(lines[1])\n",
    "                total_data_transfer_time += float(lines[2])\n",
    "                total_computation_time += float(lines[3])\n",
    "            \n",
    "            # Print them out to verify\n",
    "            # print(f\"File: {filename}\")\n",
    "            # print(\" Line 1:\", line1)\n",
    "            # print(\" Line 2:\", line2)\n",
    "            # print(\" Line 3:\", line3)\n",
    "            # print(\" Line 4:\", line4)\n",
    "            # print()\n",
    "    # Calculate averages\n",
    "    scatter_time_avg = (scatter_time_avg / len(os.listdir(folder_path))) * 1000\n",
    "    gather_time_avg = (gather_time_avg / len(os.listdir(folder_path))) * 1000\n",
    "    total_data_transfer_time = (total_data_transfer_time / len(os.listdir(folder_path))) * 1000\n",
    "    total_computation_time = (total_computation_time / len(os.listdir(folder_path))) * 1000\n",
    "    return n_size, round(scatter_time_avg, 4), round(gather_time_avg, 4), round(total_data_transfer_time, 4), round(total_computation_time-total_data_transfer_time, 4), f\"{round(standard_time / (total_computation_time - total_data_transfer_time), 4)}x\", round(total_computation_time, 4), f\"{round(standard_time / total_computation_time, 4)}x\"\n",
    "    # print(f\"Average Scatter Time: {scatter_time_avg}\")\n",
    "    # print(f\"Average Gather Time: {gather_time_avg}\")\n",
    "    # print(f\"Average Total Data Transfer Time: {total_data_transfer_time}\")\n",
    "    # print(f\"Average Total Computation Time: {total_computation_time}\")\n"
   ]
  },
  {
   "cell_type": "code",
   "execution_count": 13,
   "id": "d98dda917bccf9fd",
   "metadata": {
    "ExecuteTime": {
     "end_time": "2025-06-10T18:44:09.116609Z",
     "start_time": "2025-06-10T18:44:09.105066Z"
    }
   },
   "outputs": [],
   "source": [
    "#50, 100, 200, 500, 1000\n",
    "data_50 = []\n",
    "data_100 = []\n",
    "data_200 = []\n",
    "data_500 = []\n",
    "data_1000 = []"
   ]
  },
  {
   "cell_type": "code",
   "execution_count": 14,
   "id": "ab08f6759ae34ee6",
   "metadata": {
    "ExecuteTime": {
     "end_time": "2025-06-10T18:44:11.006935Z",
     "start_time": "2025-06-10T18:44:10.977857Z"
    }
   },
   "outputs": [],
   "source": [
    "data_50.append(run_experiment(\"random_data_50.csv\"))\n",
    "data_50.append(average_results('experiment_results/2p/data_50_results',2,data_50))\n",
    "data_50.append(average_results('experiment_results/3p/data_50_results',3,data_50))\n",
    "data_50.append(average_results('experiment_results/4p/data_50_results',4,data_50))\n",
    "data_50.append(average_results('experiment_results/5p/data_50_results',5,data_50))\n",
    "data_50.append(average_results('experiment_results/6p/data_50_results',6,data_50))"
   ]
  },
  {
   "cell_type": "code",
   "execution_count": 15,
   "id": "d18af407201b07f5",
   "metadata": {
    "ExecuteTime": {
     "end_time": "2025-06-10T18:44:12.622579Z",
     "start_time": "2025-06-10T18:44:12.594252Z"
    }
   },
   "outputs": [],
   "source": [
    "data_100.append(run_experiment(\"random_data_100.csv\"))\n",
    "data_100.append(average_results('experiment_results/2p/data_100_results',2,data_100))\n",
    "data_100.append(average_results('experiment_results/3p/data_100_results',3,data_100))\n",
    "data_100.append(average_results('experiment_results/4p/data_100_results',4,data_100))\n",
    "data_100.append(average_results('experiment_results/5p/data_100_results',5,data_100))\n",
    "data_100.append(average_results('experiment_results/6p/data_100_results',6,data_100))"
   ]
  },
  {
   "cell_type": "code",
   "execution_count": 16,
   "id": "4643d67219b14b1d",
   "metadata": {
    "ExecuteTime": {
     "end_time": "2025-06-10T18:44:14.649908Z",
     "start_time": "2025-06-10T18:44:14.614561Z"
    }
   },
   "outputs": [],
   "source": [
    "data_200.append(run_experiment(\"random_data_200.csv\"))\n",
    "data_200.append(average_results('experiment_results/2p/data_200_results',2,data_200))\n",
    "data_200.append(average_results('experiment_results/3p/data_200_results',3,data_200))\n",
    "data_200.append(average_results('experiment_results/4p/data_200_results',4,data_200))\n",
    "data_200.append(average_results('experiment_results/5p/data_200_results',5,data_200))\n",
    "data_200.append(average_results('experiment_results/6p/data_200_results',6,data_200))"
   ]
  },
  {
   "cell_type": "code",
   "execution_count": 17,
   "id": "95a92e4d5134b078",
   "metadata": {
    "ExecuteTime": {
     "end_time": "2025-06-10T18:44:16.269622Z",
     "start_time": "2025-06-10T18:44:16.234233Z"
    }
   },
   "outputs": [],
   "source": [
    "data_500.append(run_experiment(\"random_data_500.csv\"))\n",
    "data_500.append(average_results('experiment_results/2p/data_500_results',2,data_500))\n",
    "data_500.append(average_results('experiment_results/3p/data_500_results',3,data_500))\n",
    "data_500.append(average_results('experiment_results/4p/data_500_results',4,data_500))\n",
    "data_500.append(average_results('experiment_results/5p/data_500_results',5,data_500))\n",
    "data_500.append(average_results('experiment_results/6p/data_500_results',6,data_500))"
   ]
  },
  {
   "cell_type": "code",
   "execution_count": 18,
   "id": "ba20f314883d178b",
   "metadata": {
    "ExecuteTime": {
     "end_time": "2025-06-10T18:44:17.691034Z",
     "start_time": "2025-06-10T18:44:17.647808Z"
    }
   },
   "outputs": [],
   "source": [
    "data_1000.append(run_experiment(\"random_data_1000.csv\"))\n",
    "data_1000.append(average_results('experiment_results/2p/data_1000_results',2,data_1000))\n",
    "data_1000.append(average_results('experiment_results/3p/data_1000_results',3,data_1000))\n",
    "data_1000.append(average_results('experiment_results/4p/data_1000_results',4,data_1000))\n",
    "data_1000.append(average_results('experiment_results/5p/data_1000_results',5,data_1000))\n",
    "data_1000.append(average_results('experiment_results/6p/data_1000_results',6,data_1000))"
   ]
  },
  {
   "cell_type": "markdown",
   "id": "5d958f5961918878",
   "metadata": {},
   "source": [
    "Data size = 50"
   ]
  },
  {
   "cell_type": "code",
   "execution_count": 19,
   "id": "aa2ab63c5658c6f5",
   "metadata": {
    "ExecuteTime": {
     "end_time": "2025-06-10T19:31:13.921280Z",
     "start_time": "2025-06-10T19:31:13.910632Z"
    }
   },
   "outputs": [
    {
     "data": {
      "text/markdown": [
       "|   Number of Processes |   Scatter Time (ms) |   Gather Time (ms) |   Data Transfer Time (ms) |   Sort Time (ms) | Sort Time Speed Up   |   Total Computing Time (ms) |  Computing Time Speed Up   |\n",
       "|-----------------------|---------------------|--------------------|---------------------------|------------------|----------------------|-----------------------------|----------------------------|\n",
       "|                     1 |              0      |             0      |                    0      |           0.1001 | 0                    |                      0.1001 | 0                          |\n",
       "|                     2 |              0.2517 |             0.338  |                    0.5897 |           0.0604 | 1.6567x              |                      0.6501 | 0.154x                     |\n",
       "|                     3 |              0.3232 |             0.2906 |                    0.6137 |           0.0522 | 1.9158x              |                      0.666  | 0.1503x                    |\n",
       "|                     4 |              0.4036 |             0.4254 |                    0.829  |           0.0551 | 1.8157x              |                      0.8842 | 0.1132x                    |\n",
       "|                     5 |              0.4805 |             0.4238 |                    0.9043 |           0.0557 | 1.7981x              |                      0.96   | 0.1043x                    |\n",
       "|                     6 |              0.6153 |             0.475  |                    1.0903 |           0.0613 | 1.633x               |                      1.1516 | 0.0869x                    |"
      ],
      "text/plain": [
       "<IPython.core.display.Markdown object>"
      ]
     },
     "metadata": {},
     "output_type": "display_data"
    }
   ],
   "source": [
    "from tabulate import tabulate\n",
    "from IPython.display import Markdown, display, HTML\n",
    "headers = [\"Number of Processes\", \"Scatter Time (ms)\", \"Gather Time (ms)\", \"Data Transfer Time (ms)\", \"Sort Time (ms)\", \"Sort Time Speed Up\", \"Total Computing Time (ms)\", \" Computing Time Speed Up\"]\n",
    "\n",
    "display(Markdown(tabulate(data_50, headers=headers, tablefmt=\"github\")))"
   ]
  },
  {
   "cell_type": "code",
   "execution_count": 20,
   "id": "52df352fa0e48828",
   "metadata": {
    "ExecuteTime": {
     "end_time": "2025-06-10T19:31:22.992002Z",
     "start_time": "2025-06-10T19:31:22.975Z"
    }
   },
   "outputs": [
    {
     "data": {
      "text/markdown": [
       "|   Number of Processes |   Scatter Time (ms) |   Gather Time (ms) |   Data Transfer Time (ms) |   Sort Time (ms) | Sort Time Speed Up   |   Total Computing Time (ms) |  Computing Time Speed Up   |\n",
       "|-----------------------|---------------------|--------------------|---------------------------|------------------|----------------------|-----------------------------|----------------------------|\n",
       "|                     1 |              0      |             0      |                    0      |           0.2002 | 0                    |                      0.2002 | 0                          |\n",
       "|                     2 |              0.246  |             0.3656 |                    0.6116 |           0.1051 | 1.9045x              |                      0.7168 | 0.2793x                    |\n",
       "|                     3 |              0.3306 |             0.3829 |                    0.7135 |           0.0885 | 2.2629x              |                      0.8019 | 0.2496x                    |\n",
       "|                     4 |              0.4089 |             0.4648 |                    0.8737 |           0.0844 | 2.3732x              |                      0.958  | 0.209x                     |\n",
       "|                     5 |              0.5027 |             0.5291 |                    1.0317 |           0.0783 | 2.5575x              |                      1.11   | 0.1804x                    |\n",
       "|                     6 |              0.5818 |             0.4622 |                    1.044  |           0.0834 | 2.4016x              |                      1.1274 | 0.1776x                    |"
      ],
      "text/plain": [
       "<IPython.core.display.Markdown object>"
      ]
     },
     "metadata": {},
     "output_type": "display_data"
    }
   ],
   "source": [
    "display(Markdown(tabulate(data_100, headers=headers, tablefmt=\"github\")))"
   ]
  },
  {
   "cell_type": "code",
   "execution_count": 21,
   "id": "8aa89ad626018374",
   "metadata": {
    "ExecuteTime": {
     "end_time": "2025-06-10T19:31:32.206157Z",
     "start_time": "2025-06-10T19:31:32.187501Z"
    }
   },
   "outputs": [
    {
     "data": {
      "text/markdown": [
       "|   Number of Processes |   Scatter Time (ms) |   Gather Time (ms) |   Data Transfer Time (ms) |   Sort Time (ms) | Sort Time Speed Up   |   Total Computing Time (ms) |  Computing Time Speed Up   |\n",
       "|-----------------------|---------------------|--------------------|---------------------------|------------------|----------------------|-----------------------------|----------------------------|\n",
       "|                     1 |              0      |             0      |                    0      |           0.4004 | 0                    |                      0.4004 | 0                          |\n",
       "|                     2 |              0.253  |             0.4466 |                    0.6995 |           0.2134 | 1.876x               |                      0.913  | 0.4386x                    |\n",
       "|                     3 |              0.3215 |             0.4013 |                    0.7228 |           0.1484 | 2.6974x              |                      0.8712 | 0.4596x                    |\n",
       "|                     4 |              0.4043 |             0.5027 |                    0.907  |           0.1399 | 2.862x               |                      1.0469 | 0.3825x                    |\n",
       "|                     5 |              0.4846 |             0.4988 |                    0.9834 |           0.132  | 3.0322x              |                      1.1155 | 0.359x                     |\n",
       "|                     6 |              0.6058 |             0.4946 |                    1.1004 |           0.1321 | 3.0322x              |                      1.2324 | 0.3249x                    |"
      ],
      "text/plain": [
       "<IPython.core.display.Markdown object>"
      ]
     },
     "metadata": {},
     "output_type": "display_data"
    }
   ],
   "source": [
    "display(Markdown(tabulate(data_200, headers=headers, tablefmt=\"github\")))"
   ]
  },
  {
   "cell_type": "code",
   "execution_count": 22,
   "id": "ca34fe40b5a85be0",
   "metadata": {
    "ExecuteTime": {
     "end_time": "2025-06-10T19:31:35.551063Z",
     "start_time": "2025-06-10T19:31:35.538861Z"
    }
   },
   "outputs": [
    {
     "data": {
      "text/markdown": [
       "|   Number of Processes |   Scatter Time (ms) |   Gather Time (ms) |   Data Transfer Time (ms) |   Sort Time (ms) | Sort Time Speed Up   |   Total Computing Time (ms) |  Computing Time Speed Up   |\n",
       "|-----------------------|---------------------|--------------------|---------------------------|------------------|----------------------|-----------------------------|----------------------------|\n",
       "|                     1 |              0      |             0      |                    0      |           0.8007 | 0                    |                      0.8007 | 0                          |\n",
       "|                     2 |              0.2512 |             0.6924 |                    0.9436 |           0.5028 | 1.5926x              |                      1.4463 | 0.5536x                    |\n",
       "|                     3 |              0.3291 |             0.612  |                    0.9411 |           0.389  | 2.0584x              |                      1.3301 | 0.602x                     |\n",
       "|                     4 |              0.4122 |             0.7158 |                    1.128  |           0.3238 | 2.473x               |                      1.4518 | 0.5515x                    |\n",
       "|                     5 |              0.5178 |             0.6539 |                    1.1716 |           0.3113 | 2.5719x              |                      1.483  | 0.5399x                    |\n",
       "|                     6 |              0.5801 |             0.6565 |                    1.2366 |           0.2997 | 2.6712x              |                      1.5364 | 0.5212x                    |"
      ],
      "text/plain": [
       "<IPython.core.display.Markdown object>"
      ]
     },
     "metadata": {},
     "output_type": "display_data"
    }
   ],
   "source": [
    "display(Markdown(tabulate(data_500, headers=headers, tablefmt=\"github\")))"
   ]
  },
  {
   "cell_type": "code",
   "execution_count": 23,
   "id": "3f7823774ca8ed7c",
   "metadata": {
    "ExecuteTime": {
     "end_time": "2025-06-10T19:31:40.374531Z",
     "start_time": "2025-06-10T19:31:40.364283Z"
    }
   },
   "outputs": [
    {
     "data": {
      "text/markdown": [
       "|   Number of Processes |   Scatter Time (ms) |   Gather Time (ms) |   Data Transfer Time (ms) |   Sort Time (ms) | Sort Time Speed Up   |   Total Computing Time (ms) |  Computing Time Speed Up   |\n",
       "|-----------------------|---------------------|--------------------|---------------------------|------------------|----------------------|-----------------------------|----------------------------|\n",
       "|                     1 |              0      |             0      |                    0      |           2.0018 | 0                    |                      2.0018 | 0                          |\n",
       "|                     2 |              0.5151 |             1.0816 |                    1.5967 |           1.0086 | 1.9847x              |                      2.6053 | 0.7683x                    |\n",
       "|                     3 |              0.3259 |             0.9371 |                    1.263  |           0.7958 | 2.5154x              |                      2.0588 | 0.9723x                    |\n",
       "|                     4 |              0.4033 |             0.9434 |                    1.3467 |           0.6605 | 3.0308x              |                      2.0071 | 0.9973x                    |\n",
       "|                     5 |              0.4891 |             0.9198 |                    1.4089 |           0.5844 | 3.4253x              |                      1.9933 | 1.0043x                    |\n",
       "|                     6 |              0.5916 |             0.8775 |                    1.4691 |           0.5747 | 3.483x               |                      2.0439 | 0.9794x                    |"
      ],
      "text/plain": [
       "<IPython.core.display.Markdown object>"
      ]
     },
     "metadata": {},
     "output_type": "display_data"
    }
   ],
   "source": [
    "display(Markdown(tabulate(data_1000, headers=headers, tablefmt=\"github\")))"
   ]
  },
  {
   "cell_type": "code",
   "execution_count": null,
   "id": "27348511",
   "metadata": {},
   "outputs": [],
   "source": []
  },
  {
   "cell_type": "markdown",
   "id": "759f36d76c4c53e0",
   "metadata": {},
   "source": [
    "The tests were run 10 times each then averaged out. There are three timers track: scatter time, gather time, and total computing time. The data transfer time is the scatter time and gather time added together. The sort time is the total computing time minus the data transfer time. Although this is not the exact sort time it is a good approximation. The results show that as more processes are being added the sort time is decreasing. Although due to the data transfer time there was only one case that the total computing time was smaller than the single process sort. That was for the 1000 size data with 5 processes. "
   ]
  }
 ],
 "metadata": {
  "kernelspec": {
   "display_name": ".venv",
   "language": "python",
   "name": "python3"
  },
  "language_info": {
   "codemirror_mode": {
    "name": "ipython",
    "version": 3
   },
   "file_extension": ".py",
   "mimetype": "text/x-python",
   "name": "python",
   "nbconvert_exporter": "python",
   "pygments_lexer": "ipython3",
   "version": "3.12.3"
  }
 },
 "nbformat": 4,
 "nbformat_minor": 5
}
