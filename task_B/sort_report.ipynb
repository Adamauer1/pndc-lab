{
 "cells": [
  {
   "cell_type": "code",
   "execution_count": 15,
   "id": "d86b9098",
   "metadata": {},
   "outputs": [],
   "source": [
    "def generate_random_data(size=50, output_file='random_data.csv'):\n",
    "    import random\n",
    "    import csv\n",
    "\n",
    "    # Generate random data\n",
    "    data = [[random.randint(1, 10000)] for _ in range(size)]\n",
    "    data.insert(0, [size])  # Add header\n",
    "    # Write to CSV file\n",
    "    with open(output_file, mode='w', newline='') as file:\n",
    "        writer = csv.writer(file)\n",
    "        writer.writerows(data)\n",
    "\n",
    "generate_random_data(50, 'random_data_50.csv')\n",
    "generate_random_data(100, 'random_data_100.csv')\n",
    "generate_random_data(200, 'random_data_200.csv')\n",
    "generate_random_data(500, 'random_data_500.csv')\n",
    "generate_random_data(1000, 'random_data_1000.csv')"
   ]
  }
 ],
 "metadata": {
  "kernelspec": {
   "display_name": ".venv",
   "language": "python",
   "name": "python3"
  },
  "language_info": {
   "codemirror_mode": {
    "name": "ipython",
    "version": 3
   },
   "file_extension": ".py",
   "mimetype": "text/x-python",
   "name": "python",
   "nbconvert_exporter": "python",
   "pygments_lexer": "ipython3",
   "version": "3.12.3"
  }
 },
 "nbformat": 4,
 "nbformat_minor": 5
}
