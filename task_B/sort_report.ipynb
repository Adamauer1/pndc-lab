{
 "cells": [
  {
   "cell_type": "code",
   "execution_count": null,
   "id": "d86b9098",
   "metadata": {
    "ExecuteTime": {
     "end_time": "2025-06-08T20:56:47.426645Z",
     "start_time": "2025-06-08T20:56:47.416636Z"
    }
   },
   "outputs": [],
   "source": [
    "def generate_random_data(size=50, output_file='random_data.csv'):\n",
    "    import random\n",
    "    import csv\n",
    "\n",
    "    # Generate random data\n",
    "    data = [[random.randint(1, 10000)] for _ in range(size)]\n",
    "    data.insert(0, [size])  # Add header\n",
    "    # Write to CSV file\n",
    "    with open(output_file, mode='w', newline='') as file:\n",
    "        writer = csv.writer(file)\n",
    "        writer.writerows(data)\n",
    "\n",
    "#generate_random_data(50, 'random_data_50.csv')\n",
    "#generate_random_data(100, 'random_data_100.csv')\n",
    "#generate_random_data(200, 'random_data_200.csv')\n",
    "#generate_random_data(500, 'random_data_500.csv')\n",
    "#generate_random_data(1000, 'random_data_1000.csv')"
   ]
  },
  {
   "cell_type": "code",
   "execution_count": 1,
   "id": "b2cf2ca6",
   "metadata": {
    "ExecuteTime": {
     "end_time": "2025-06-09T14:47:22.090675Z",
     "start_time": "2025-06-09T14:47:21.709817Z"
    }
   },
   "outputs": [],
   "source": [
    "import pandas as pd\n",
    "import time\n",
    "\n",
    "def quick_sort(arr):\n",
    "    if len(arr) <= 1:\n",
    "        return arr\n",
    "    pivot = arr[len(arr) // 2]\n",
    "    left = [x for x in arr if x < pivot]\n",
    "    middle = [x for x in arr if x == pivot]\n",
    "    right = [x for x in arr if x > pivot]\n",
    "    return quick_sort(left) + middle + quick_sort(right)\n",
    "\n",
    "def run_experiment(data_file):\n",
    "    data = pd.read_csv(data_file, header=None).values.flatten()[1:]\n",
    "    sort_time = 0\n",
    "    for i in range(10):\n",
    "        start_time = time.time()\n",
    "        quick_sort(data)\n",
    "        end_time = time.time()\n",
    "        sort_time += end_time - start_time\n",
    "        #print(f\"Time taken to sort: {end_time - start_time} seconds\")\n",
    "        \n",
    "    return 1, 0, 0, 0, (sort_time / 10)*1000, 0\n"
   ]
  },
  {
   "cell_type": "code",
   "execution_count": 15,
   "id": "57937d2f",
   "metadata": {
    "ExecuteTime": {
     "end_time": "2025-06-08T20:57:00.464515Z",
     "start_time": "2025-06-08T20:57:00.424302Z"
    }
   },
   "outputs": [],
   "source": [
    "#data = pd.read_csv(\"random_data_1000.csv\", header=None).values.flatten()[1:]\n",
    "#n_1 = [run_experiment(\"random_data_50.csv\") * 1000, run_experiment(\"random_data_100.csv\") * 1000,\n",
    "       #run_experiment(\"random_data_200.csv\") * 1000, run_experiment(\"random_data_500.csv\") * 1000,\n",
    "       #run_experiment(\"random_data_1000.csv\") * 1000]\n",
    "#print(f\"Size 50 average time: {data_50_avg_time} ms\")\n",
    "#print(f\"Size 100 average time taken to sort: {data_100_avg_time} ms\")\n",
    "#print(f\"Size 200 average time taken to sort: {data_200_avg_time} ms\")\n",
    "#print(f\"Size 500 average time taken to sort: {data_500_avg_time} ms\")\n",
    "#print(f\"Size 1000 average time taken to sort: {data_1000_avg_time} ms\")\n"
   ]
  },
  {
   "cell_type": "code",
   "execution_count": 2,
   "id": "69ef22e8",
   "metadata": {
    "ExecuteTime": {
     "end_time": "2025-06-09T14:47:40.647604Z",
     "start_time": "2025-06-09T14:47:40.641598Z"
    }
   },
   "outputs": [],
   "source": [
    "import os\n",
    "\n",
    "\n",
    "def average_results(folder_path, n_size, data):\n",
    "    #folder_path = 'data_50_results'  # Replace with your folder path\n",
    "    _, _, _, _, standard_time, _ = data[0]\n",
    "    #print(standard_time)\n",
    "    scatter_time_avg = 0\n",
    "    gather_time_avg = 0\n",
    "    total_data_transfer_time = 0\n",
    "    total_computation_time = 0\n",
    "    # Loop through each file in the folder\n",
    "    for filename in os.listdir(folder_path):\n",
    "        file_path = os.path.join(folder_path, filename)\n",
    "    \n",
    "    # Ensure we only read files (skip directories)\n",
    "        if os.path.isfile(file_path):\n",
    "            with open(file_path, 'r') as f:\n",
    "                lines = f.readlines()\n",
    "        \n",
    "        # Remove any trailing newlines or spaces\n",
    "            lines = [line.strip() for line in lines]\n",
    "        \n",
    "        # Check that there are exactly 4 lines\n",
    "            if len(lines) != 4:\n",
    "                print(f\"Error: {filename} does not have exactly 4 lines!\")\n",
    "            else:\n",
    "                scatter_time_avg += float(lines[0])\n",
    "                gather_time_avg += float(lines[1])\n",
    "                total_data_transfer_time += float(lines[2])\n",
    "                total_computation_time += float(lines[3])\n",
    "            \n",
    "            # Print them out to verify\n",
    "            # print(f\"File: {filename}\")\n",
    "            # print(\" Line 1:\", line1)\n",
    "            # print(\" Line 2:\", line2)\n",
    "            # print(\" Line 3:\", line3)\n",
    "            # print(\" Line 4:\", line4)\n",
    "            # print()\n",
    "    # Calculate averages\n",
    "    scatter_time_avg = (scatter_time_avg / len(os.listdir(folder_path))) * 1000\n",
    "    gather_time_avg = (gather_time_avg / len(os.listdir(folder_path))) * 1000\n",
    "    total_data_transfer_time = (total_data_transfer_time / len(os.listdir(folder_path))) * 1000\n",
    "    total_computation_time = (total_computation_time / len(os.listdir(folder_path))) * 1000\n",
    "    return n_size, scatter_time_avg, gather_time_avg, total_data_transfer_time, total_computation_time, standard_time / total_computation_time\n",
    "    # print(f\"Average Scatter Time: {scatter_time_avg}\")\n",
    "    # print(f\"Average Gather Time: {gather_time_avg}\")\n",
    "    # print(f\"Average Total Data Transfer Time: {total_data_transfer_time}\")\n",
    "    # print(f\"Average Total Computation Time: {total_computation_time}\")\n"
   ]
  },
  {
   "cell_type": "code",
   "execution_count": 3,
   "id": "d98dda917bccf9fd",
   "metadata": {
    "ExecuteTime": {
     "end_time": "2025-06-09T14:47:43.281015Z",
     "start_time": "2025-06-09T14:47:43.277502Z"
    }
   },
   "outputs": [],
   "source": [
    "#50, 100, 200, 500, 1000\n",
    "data_50 = []\n",
    "data_100 = []\n",
    "data_200 = []\n",
    "data_500 = []\n",
    "data_1000 = []"
   ]
  },
  {
   "cell_type": "code",
   "execution_count": 4,
   "id": "ab08f6759ae34ee6",
   "metadata": {
    "ExecuteTime": {
     "end_time": "2025-06-09T14:47:44.706624Z",
     "start_time": "2025-06-09T14:47:44.683807Z"
    }
   },
   "outputs": [],
   "source": [
    "data_50.append(run_experiment(\"random_data_50.csv\"))\n",
    "data_50.append(average_results('experiment_results/2p/data_50_results',2,data_50))\n",
    "data_50.append(average_results('experiment_results/3p/data_50_results',3,data_50))\n",
    "data_50.append(average_results('experiment_results/4p/data_50_results',4,data_50))\n",
    "data_50.append(average_results('experiment_results/5p/data_50_results',5,data_50))\n",
    "data_50.append(average_results('experiment_results/6p/data_50_results',6,data_50))"
   ]
  },
  {
   "cell_type": "code",
   "execution_count": 5,
   "id": "d18af407201b07f5",
   "metadata": {
    "ExecuteTime": {
     "end_time": "2025-06-09T14:47:46.902701Z",
     "start_time": "2025-06-09T14:47:46.881597Z"
    }
   },
   "outputs": [],
   "source": [
    "data_100.append(run_experiment(\"random_data_100.csv\"))\n",
    "data_100.append(average_results('experiment_results/2p/data_100_results',2,data_100))\n",
    "data_100.append(average_results('experiment_results/3p/data_100_results',3,data_100))\n",
    "data_100.append(average_results('experiment_results/4p/data_100_results',4,data_100))\n",
    "data_100.append(average_results('experiment_results/5p/data_100_results',5,data_100))\n",
    "data_100.append(average_results('experiment_results/6p/data_100_results',6,data_100))"
   ]
  },
  {
   "cell_type": "code",
   "execution_count": 6,
   "id": "4643d67219b14b1d",
   "metadata": {
    "ExecuteTime": {
     "end_time": "2025-06-09T14:47:48.034046Z",
     "start_time": "2025-06-09T14:47:48.010702Z"
    }
   },
   "outputs": [],
   "source": [
    "data_200.append(run_experiment(\"random_data_200.csv\"))\n",
    "data_200.append(average_results('experiment_results/2p/data_200_results',2,data_200))\n",
    "data_200.append(average_results('experiment_results/3p/data_200_results',3,data_200))\n",
    "data_200.append(average_results('experiment_results/4p/data_200_results',4,data_200))\n",
    "data_200.append(average_results('experiment_results/5p/data_200_results',5,data_200))\n",
    "data_200.append(average_results('experiment_results/6p/data_200_results',6,data_200))"
   ]
  },
  {
   "cell_type": "code",
   "execution_count": 7,
   "id": "95a92e4d5134b078",
   "metadata": {
    "ExecuteTime": {
     "end_time": "2025-06-09T14:47:49.210111Z",
     "start_time": "2025-06-09T14:47:49.181085Z"
    }
   },
   "outputs": [],
   "source": [
    "data_500.append(run_experiment(\"random_data_500.csv\"))\n",
    "data_500.append(average_results('experiment_results/2p/data_500_results',2,data_500))\n",
    "data_500.append(average_results('experiment_results/3p/data_500_results',3,data_500))\n",
    "data_500.append(average_results('experiment_results/4p/data_500_results',4,data_500))\n",
    "data_500.append(average_results('experiment_results/5p/data_500_results',5,data_500))\n",
    "data_500.append(average_results('experiment_results/6p/data_500_results',6,data_500))"
   ]
  },
  {
   "cell_type": "code",
   "execution_count": 8,
   "id": "ba20f314883d178b",
   "metadata": {
    "ExecuteTime": {
     "end_time": "2025-06-09T14:47:50.899648Z",
     "start_time": "2025-06-09T14:47:50.860613Z"
    }
   },
   "outputs": [],
   "source": [
    "data_1000.append(run_experiment(\"random_data_1000.csv\"))\n",
    "data_1000.append(average_results('experiment_results/2p/data_1000_results',2,data_1000))\n",
    "data_1000.append(average_results('experiment_results/3p/data_1000_results',3,data_1000))\n",
    "data_1000.append(average_results('experiment_results/4p/data_1000_results',4,data_1000))\n",
    "data_1000.append(average_results('experiment_results/5p/data_1000_results',5,data_1000))\n",
    "data_1000.append(average_results('experiment_results/6p/data_1000_results',6,data_1000))"
   ]
  },
  {
   "cell_type": "code",
   "execution_count": 11,
   "id": "aa2ab63c5658c6f5",
   "metadata": {
    "ExecuteTime": {
     "end_time": "2025-06-09T14:47:52.370787Z",
     "start_time": "2025-06-09T14:47:52.315948Z"
    }
   },
   "outputs": [
    {
     "data": {
      "text/markdown": [
       "|   Number of Processes |   Scatter Time |   Gather Time |   Data Transfer Time |   Total Computing Time |   Speed Up |\n",
       "|-----------------------|----------------|---------------|----------------------|------------------------|------------|\n",
       "|                     1 |        0       |       0       |              0       |               0.100064 |  0         |\n",
       "|                     2 |        0.25172 |       0.33796 |              0.58968 |               0.6501   |  0.153921  |\n",
       "|                     3 |        0.32316 |       0.29055 |              0.61371 |               0.66596  |  0.150256  |\n",
       "|                     4 |        0.4036  |       0.42543 |              0.82903 |               0.88416  |  0.113174  |\n",
       "|                     5 |        0.48055 |       0.42378 |              0.90433 |               0.96     |  0.104234  |\n",
       "|                     6 |        0.61529 |       0.47497 |              1.09026 |               1.15156  |  0.0868945 |"
      ],
      "text/plain": [
       "<IPython.core.display.Markdown object>"
      ]
     },
     "metadata": {},
     "output_type": "display_data"
    }
   ],
   "source": [
    "from tabulate import tabulate\n",
    "from IPython.display import Markdown, display, HTML\n",
    "headers = [\"Number of Processes\", \"Scatter Time\", \"Gather Time\", \"Data Transfer Time\", \"Total Computing Time\", \"Speed Up\"]\n",
    "\n",
    "display(Markdown(tabulate(data_50, headers=headers, tablefmt=\"github\")))"
   ]
  },
  {
   "cell_type": "code",
   "execution_count": 12,
   "id": "52df352fa0e48828",
   "metadata": {
    "ExecuteTime": {
     "end_time": "2025-06-08T21:27:02.689097Z",
     "start_time": "2025-06-08T21:27:02.683552Z"
    }
   },
   "outputs": [
    {
     "data": {
      "text/markdown": [
       "|   Number of Processes |   Scatter Time |   Gather Time |   Data Transfer Time |   Total Computing Time |   Speed Up |\n",
       "|-----------------------|----------------|---------------|----------------------|------------------------|------------|\n",
       "|                     1 |        0       |       0       |              0       |               0.200176 |   0        |\n",
       "|                     2 |        0.24605 |       0.36559 |              0.61164 |               0.71676  |   0.279279 |\n",
       "|                     3 |        0.33059 |       0.38289 |              0.71348 |               0.80195  |   0.249612 |\n",
       "|                     4 |        0.40887 |       0.4648  |              0.87367 |               0.95803  |   0.208946 |\n",
       "|                     5 |        0.50267 |       0.52908 |              1.03175 |               1.11003  |   0.180334 |\n",
       "|                     6 |        0.58181 |       0.46218 |              1.04399 |               1.12735  |   0.177564 |"
      ],
      "text/plain": [
       "<IPython.core.display.Markdown object>"
      ]
     },
     "metadata": {},
     "output_type": "display_data"
    }
   ],
   "source": [
    "display(Markdown(tabulate(data_100, headers=headers, tablefmt=\"github\")))"
   ]
  },
  {
   "cell_type": "code",
   "execution_count": 13,
   "id": "8aa89ad626018374",
   "metadata": {
    "ExecuteTime": {
     "end_time": "2025-06-08T21:27:10.857946Z",
     "start_time": "2025-06-08T21:27:10.852942Z"
    }
   },
   "outputs": [
    {
     "data": {
      "text/markdown": [
       "|   Number of Processes |   Scatter Time |   Gather Time |   Data Transfer Time |   Total Computing Time |   Speed Up |\n",
       "|-----------------------|----------------|---------------|----------------------|------------------------|------------|\n",
       "|                     1 |        0       |       0       |              0       |               0.200176 |   0        |\n",
       "|                     2 |        0.25296 |       0.44658 |              0.69954 |               0.91297  |   0.219258 |\n",
       "|                     3 |        0.3215  |       0.40129 |              0.72279 |               0.87123  |   0.229763 |\n",
       "|                     4 |        0.40433 |       0.5027  |              0.90703 |               1.04693  |   0.191203 |\n",
       "|                     5 |        0.48457 |       0.49883 |              0.9834  |               1.11545  |   0.179458 |\n",
       "|                     6 |        0.60582 |       0.49458 |              1.1004  |               1.23245  |   0.162421 |"
      ],
      "text/plain": [
       "<IPython.core.display.Markdown object>"
      ]
     },
     "metadata": {},
     "output_type": "display_data"
    }
   ],
   "source": [
    "display(Markdown(tabulate(data_200, headers=headers, tablefmt=\"github\")))"
   ]
  },
  {
   "cell_type": "code",
   "execution_count": 14,
   "id": "ca34fe40b5a85be0",
   "metadata": {
    "ExecuteTime": {
     "end_time": "2025-06-08T21:27:12.671176Z",
     "start_time": "2025-06-08T21:27:12.666171Z"
    }
   },
   "outputs": [
    {
     "data": {
      "text/markdown": [
       "|   Number of Processes |   Scatter Time |   Gather Time |   Data Transfer Time |   Total Computing Time |   Speed Up |\n",
       "|-----------------------|----------------|---------------|----------------------|------------------------|------------|\n",
       "|                     1 |        0       |       0       |              0       |               0.800681 |   0        |\n",
       "|                     2 |        0.25122 |       0.69235 |              0.94357 |               1.44633  |   0.553595 |\n",
       "|                     3 |        0.3291  |       0.612   |              0.9411  |               1.3301   |   0.601971 |\n",
       "|                     4 |        0.41221 |       0.7158  |              1.12801 |               1.45179  |   0.551513 |\n",
       "|                     5 |        0.51777 |       0.65387 |              1.17164 |               1.48297  |   0.539917 |\n",
       "|                     6 |        0.5801  |       0.65651 |              1.23661 |               1.53636  |   0.521155 |"
      ],
      "text/plain": [
       "<IPython.core.display.Markdown object>"
      ]
     },
     "metadata": {},
     "output_type": "display_data"
    }
   ],
   "source": [
    "display(Markdown(tabulate(data_500, headers=headers, tablefmt=\"github\")))"
   ]
  },
  {
   "cell_type": "code",
   "execution_count": 15,
   "id": "3f7823774ca8ed7c",
   "metadata": {
    "ExecuteTime": {
     "end_time": "2025-06-08T21:27:14.444118Z",
     "start_time": "2025-06-08T21:27:14.439246Z"
    }
   },
   "outputs": [
    {
     "data": {
      "text/markdown": [
       "|   Number of Processes |   Scatter Time |   Gather Time |   Data Transfer Time |   Total Computing Time |   Speed Up |\n",
       "|-----------------------|----------------|---------------|----------------------|------------------------|------------|\n",
       "|                     1 |        0       |       0       |              0       |                1.75266 |   0        |\n",
       "|                     2 |        0.51514 |       1.0816  |              1.59674 |                2.60534 |   0.672719 |\n",
       "|                     3 |        0.32586 |       0.93713 |              1.26299 |                2.05882 |   0.851295 |\n",
       "|                     4 |        0.40327 |       0.94339 |              1.34666 |                2.00714 |   0.873214 |\n",
       "|                     5 |        0.48907 |       0.91979 |              1.40886 |                1.99328 |   0.879286 |\n",
       "|                     6 |        0.5916  |       0.87754 |              1.46914 |                2.04387 |   0.857522 |"
      ],
      "text/plain": [
       "<IPython.core.display.Markdown object>"
      ]
     },
     "metadata": {},
     "output_type": "display_data"
    }
   ],
   "source": [
    "display(Markdown(tabulate(data_1000, headers=headers, tablefmt=\"github\")))"
   ]
  }
 ],
 "metadata": {
  "kernelspec": {
   "display_name": ".venv",
   "language": "python",
   "name": "python3"
  },
  "language_info": {
   "codemirror_mode": {
    "name": "ipython",
    "version": 3
   },
   "file_extension": ".py",
   "mimetype": "text/x-python",
   "name": "python",
   "nbconvert_exporter": "python",
   "pygments_lexer": "ipython3",
   "version": "3.12.1"
  }
 },
 "nbformat": 4,
 "nbformat_minor": 5
}
